{
  "nbformat": 4,
  "nbformat_minor": 0,
  "metadata": {
    "colab": {
      "provenance": [],
      "authorship_tag": "ABX9TyNjQVRiHJzQQCIG8rs/d9bh",
      "include_colab_link": true
    },
    "kernelspec": {
      "name": "python3",
      "display_name": "Python 3"
    },
    "language_info": {
      "name": "python"
    }
  },
  "cells": [
    {
      "cell_type": "markdown",
      "metadata": {
        "id": "view-in-github",
        "colab_type": "text"
      },
      "source": [
        "<a href=\"https://colab.research.google.com/github/OKorobka/git-project/blob/master/ML_SpaCy.ipynb\" target=\"_parent\"><img src=\"https://colab.research.google.com/assets/colab-badge.svg\" alt=\"Open In Colab\"/></a>"
      ]
    },
    {
      "cell_type": "markdown",
      "source": [
        "**Step 2**\n",
        "\n"
      ],
      "metadata": {
        "id": "Xl1GU5195xDA"
      }
    },
    {
      "cell_type": "code",
      "execution_count": null,
      "metadata": {
        "id": "f8bYOXgp5wN1"
      },
      "outputs": [],
      "source": [
        "!python3 -m spacy convert   drive/MyDrive/testdata.json ./ -t spacy\n",
        "\n",
        "!python3 -m spacy convert  drive/MyDrive/spacy_train_data_1500.json ./ -t spacy"
      ]
    },
    {
      "cell_type": "code",
      "source": [
        "!wget https://developer.nvidia.com/compute/cuda/9.2/Prod/local_installers/cuda-repo-ubuntu1604-9-2-local_9.2.88-1_amd64 -O cuda-repo-ubuntu1604–9–2-local_9.2.88–1_amd64.deb!dpkg -i cuda-repo-ubuntu1604–9–2-local_9.2.88–1_amd64.deb!apt-key add /var/cuda-repo-9–2-local/7fa2af80.pub!apt-get update!apt-get install cuda-9.2\n",
        "\n",
        "!pip install -U spacy\n",
        "!python3 -m spacy download en_core_web_lg\n",
        "\n",
        "!pip install -U spacy[cuda-autodetect,transformers]\n",
        "!export CUDA_PATH=”/usr/local/cuda-9.2\"\n",
        "!export LD_LIBRARY_PATH=$CUDA_PATH/lib64:$LD_LIBRARY_PATH\n",
        "!pip install cupy"
      ],
      "metadata": {
        "id": "QxVyaZ7P6Log"
      },
      "execution_count": null,
      "outputs": []
    },
    {
      "cell_type": "markdown",
      "source": [
        "Step 3"
      ],
      "metadata": {
        "id": "QTiv3fss6Gbc"
      }
    },
    {
      "cell_type": "code",
      "source": [
        "!python3 -m spacy init fill-config /content/base_config.cfg /content/base_config.cfg"
      ],
      "metadata": {
        "id": "XPf0sA5_6XjO"
      },
      "execution_count": null,
      "outputs": []
    },
    {
      "cell_type": "markdown",
      "source": [
        "Step 4"
      ],
      "metadata": {
        "id": "oES4sGWn6eym"
      }
    },
    {
      "cell_type": "code",
      "source": [
        "!python3 -m spacy train -g 0 base_config.cfg --output /content/trained_model_1500_v3 --paths.train drive/MyDrive/spacy_train_data_1500.spacy --paths.dev drive/MyDrive/testdata.spacy"
      ],
      "metadata": {
        "id": "ZlxZUBEK6geP"
      },
      "execution_count": null,
      "outputs": []
    }
  ]
}